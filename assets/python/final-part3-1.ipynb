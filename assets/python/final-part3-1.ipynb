{
 "cells": [
  {
   "cell_type": "code",
   "execution_count": 5,
   "metadata": {},
   "outputs": [
    {
     "data": {
      "text/plain": [
       "DataTransformerRegistry.enable('default')"
      ]
     },
     "execution_count": 5,
     "metadata": {},
     "output_type": "execute_result"
    }
   ],
   "source": [
    "import altair as alt\n",
    "import pandas as pd\n",
    "alt.data_transformers.disable_max_rows()"
   ]
  },
  {
   "cell_type": "code",
   "execution_count": 6,
   "metadata": {},
   "outputs": [
    {
     "name": "stderr",
     "output_type": "stream",
     "text": [
      "/usr/local/lib/python3.9/site-packages/altair/utils/deprecation.py:65: AltairDeprecationWarning: 'selection' is deprecated.\n",
      "   Use 'selection_point()' or 'selection_interval()' instead; these functions also include more helpful docstrings.\n",
      "  warnings.warn(message, AltairDeprecationWarning, stacklevel=1)\n",
      "/usr/local/lib/python3.9/site-packages/altair/vegalite/v5/api.py:450: AltairDeprecationWarning: The types 'single' and 'multi' are now\n",
      "        combined and should be specified using \"selection_point()\".\n",
      "  warnings.warn(\n",
      "/usr/local/lib/python3.9/site-packages/altair/vegalite/v5/api.py:387: AltairDeprecationWarning: The value of 'empty' should be True or False.\n",
      "  warnings.warn(\n",
      "/usr/local/lib/python3.9/site-packages/altair/utils/deprecation.py:65: AltairDeprecationWarning: 'add_selection' is deprecated. Use 'add_params' instead.\n",
      "  warnings.warn(message, AltairDeprecationWarning, stacklevel=1)\n"
     ]
    }
   ],
   "source": [
    "data = pd.read_csv('../csv/video_games.csv')\n",
    "data = data.dropna().copy(deep = True)\n",
    "\n",
    "genre_data = data.assign(Genre=data['Metadata.Genres'].str.split(',')).explode('Genre')\n",
    "\n",
    "genre_publisher_count = genre_data.groupby(['Genre']).size().reset_index(name='Count')\n",
    "\n",
    "nearest = alt.selection(type='single', nearest=True, on='mouseover',\n",
    "                        fields=['Genre'], empty='none')\n",
    "\n",
    "chart1 = alt.Chart(genre_publisher_count).mark_bar().encode(\n",
    "    x='Count',\n",
    "    y='Genre',\n",
    "    color=alt.condition(nearest, 'Genre', alt.value('lightgrey')),\n",
    "    tooltip=['Genre', alt.Tooltip('Count', title='Games in the Genre')]\n",
    ").add_selection(\n",
    "    nearest\n",
    ").properties(\n",
    "    title = 'The Number of Games for Each Genre',\n",
    "    width=800,\n",
    "    height=500\n",
    ")\n"
   ]
  },
  {
   "cell_type": "markdown",
   "metadata": {},
   "source": [
    "### Contextual"
   ]
  },
  {
   "cell_type": "code",
   "execution_count": 7,
   "metadata": {},
   "outputs": [],
   "source": [
    "vg_sales = pd.read_csv('../csv/vgsales.csv')\n",
    "vg_sales = vg_sales.dropna()\n",
    "vg_sales['Year'] = vg_sales['Year'].astype(int) \n",
    "vg_sales = vg_sales[(vg_sales['Year'] >= 2004) & (vg_sales['Year'] <= 2010)]\n",
    "vg_sales1 = vg_sales[(vg_sales[\"Global_Sales\"] >= 0.01)]\n",
    "vg_sample = vg_sales1.copy(deep = True)\n",
    "vg_sample[\"Year\"] = vg_sample['Year'].astype(str) + \"-01-01\"\n",
    "vg_sample[\"Year\"] = pd.to_datetime(vg_sample[\"Year\"])\n",
    "\n",
    "genre_dropdown = alt.binding_select(options= [None] + list(vg_sample.Genre.unique()), labels = ['All'] + list(vg_sample.Genre.unique()))\n",
    "genre_select = alt.selection_point(fields=[\"Genre\"], bind=genre_dropdown, name = 'Genre')\n",
    "\n",
    "\n",
    "chart2 = alt.Chart(vg_sample).mark_circle(size=100).encode(\n",
    "    x = 'Year:T',\n",
    "    y = 'Global_Sales',\n",
    "    color= 'Genre',\n",
    "    tooltip = ['Name', 'Platform', 'Publisher','Global_Sales']\n",
    ").add_params(genre_select).transform_filter(genre_select).interactive().properties(\n",
    "    title = 'Global Sales of Video Games Between 2004 and 2010 By Genre',\n",
    "    width=800,\n",
    "    height=500\n",
    ")"
   ]
  },
  {
   "cell_type": "code",
   "execution_count": 8,
   "metadata": {},
   "outputs": [],
   "source": [
    "file_path = '../csv/vgsales.csv'\n",
    "data = pd.read_csv(file_path)\n",
    "\n",
    "publisher_sales = data.groupby('Publisher')['Global_Sales'].sum().reset_index()\n",
    "\n",
    "top_publishers = publisher_sales.sort_values(by='Global_Sales', ascending=False).head(10)\n",
    "\n",
    "chart3 = alt.Chart(top_publishers).mark_bar().encode(\n",
    "    x='Global_Sales:Q',\n",
    "    y=alt.Y('Publisher:N', sort='-x'),\n",
    "    color='Global_Sales:Q',\n",
    "    tooltip=['Global_Sales']\n",
    ").properties(\n",
    "    width=800,\n",
    "    height=500,\n",
    "    title='Top 10 Video Game Publishers by Global Sales'\n",
    ")\n"
   ]
  },
  {
   "cell_type": "code",
   "execution_count": 9,
   "metadata": {},
   "outputs": [],
   "source": [
    "path = '../json/'\n",
    "\n",
    "chart1.save(path + 'fp3-1.json')\n",
    "chart2.save(path + 'fp3-1-con1.json')\n",
    "chart3.save(path + 'fp3-1-con2.json')"
   ]
  },
  {
   "cell_type": "code",
   "execution_count": null,
   "metadata": {},
   "outputs": [],
   "source": []
  }
 ],
 "metadata": {
  "kernelspec": {
   "display_name": "Python 3",
   "language": "python",
   "name": "python3"
  },
  "language_info": {
   "codemirror_mode": {
    "name": "ipython",
    "version": 3
   },
   "file_extension": ".py",
   "mimetype": "text/x-python",
   "name": "python",
   "nbconvert_exporter": "python",
   "pygments_lexer": "ipython3",
   "version": "3.9.18"
  }
 },
 "nbformat": 4,
 "nbformat_minor": 2
}
