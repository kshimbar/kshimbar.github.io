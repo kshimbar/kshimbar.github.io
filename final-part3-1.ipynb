{
 "cells": [
  {
   "cell_type": "code",
   "execution_count": 63,
   "metadata": {},
   "outputs": [],
   "source": [
    "import altair as alt\n",
    "import pandas as pd"
   ]
  },
  {
   "cell_type": "code",
   "execution_count": 64,
   "metadata": {},
   "outputs": [
    {
     "data": {
      "text/html": [
       "\n",
       "<style>\n",
       "  #altair-viz-8047e17b0ae24fbd8382c1b89d973bb6.vega-embed {\n",
       "    width: 100%;\n",
       "    display: flex;\n",
       "  }\n",
       "\n",
       "  #altair-viz-8047e17b0ae24fbd8382c1b89d973bb6.vega-embed details,\n",
       "  #altair-viz-8047e17b0ae24fbd8382c1b89d973bb6.vega-embed details summary {\n",
       "    position: relative;\n",
       "  }\n",
       "</style>\n",
       "<div id=\"altair-viz-8047e17b0ae24fbd8382c1b89d973bb6\"></div>\n",
       "<script type=\"text/javascript\">\n",
       "  var VEGA_DEBUG = (typeof VEGA_DEBUG == \"undefined\") ? {} : VEGA_DEBUG;\n",
       "  (function(spec, embedOpt){\n",
       "    let outputDiv = document.currentScript.previousElementSibling;\n",
       "    if (outputDiv.id !== \"altair-viz-8047e17b0ae24fbd8382c1b89d973bb6\") {\n",
       "      outputDiv = document.getElementById(\"altair-viz-8047e17b0ae24fbd8382c1b89d973bb6\");\n",
       "    }\n",
       "    const paths = {\n",
       "      \"vega\": \"https://cdn.jsdelivr.net/npm/vega@5?noext\",\n",
       "      \"vega-lib\": \"https://cdn.jsdelivr.net/npm/vega-lib?noext\",\n",
       "      \"vega-lite\": \"https://cdn.jsdelivr.net/npm/vega-lite@5.15.1?noext\",\n",
       "      \"vega-embed\": \"https://cdn.jsdelivr.net/npm/vega-embed@6?noext\",\n",
       "    };\n",
       "\n",
       "    function maybeLoadScript(lib, version) {\n",
       "      var key = `${lib.replace(\"-\", \"\")}_version`;\n",
       "      return (VEGA_DEBUG[key] == version) ?\n",
       "        Promise.resolve(paths[lib]) :\n",
       "        new Promise(function(resolve, reject) {\n",
       "          var s = document.createElement('script');\n",
       "          document.getElementsByTagName(\"head\")[0].appendChild(s);\n",
       "          s.async = true;\n",
       "          s.onload = () => {\n",
       "            VEGA_DEBUG[key] = version;\n",
       "            return resolve(paths[lib]);\n",
       "          };\n",
       "          s.onerror = () => reject(`Error loading script: ${paths[lib]}`);\n",
       "          s.src = paths[lib];\n",
       "        });\n",
       "    }\n",
       "\n",
       "    function showError(err) {\n",
       "      outputDiv.innerHTML = `<div class=\"error\" style=\"color:red;\">${err}</div>`;\n",
       "      throw err;\n",
       "    }\n",
       "\n",
       "    function displayChart(vegaEmbed) {\n",
       "      vegaEmbed(outputDiv, spec, embedOpt)\n",
       "        .catch(err => showError(`Javascript Error: ${err.message}<br>This usually means there's a typo in your chart specification. See the javascript console for the full traceback.`));\n",
       "    }\n",
       "\n",
       "    if(typeof define === \"function\" && define.amd) {\n",
       "      requirejs.config({paths});\n",
       "      require([\"vega-embed\"], displayChart, err => showError(`Error loading script: ${err.message}`));\n",
       "    } else {\n",
       "      maybeLoadScript(\"vega\", \"5\")\n",
       "        .then(() => maybeLoadScript(\"vega-lite\", \"5.15.1\"))\n",
       "        .then(() => maybeLoadScript(\"vega-embed\", \"6\"))\n",
       "        .catch(showError)\n",
       "        .then(() => displayChart(vegaEmbed));\n",
       "    }\n",
       "  })({\"config\": {\"view\": {\"continuousWidth\": 300, \"continuousHeight\": 300}}, \"data\": {\"name\": \"data-2ca09ffbd6ca8eed44892723a7219259\"}, \"mark\": {\"type\": \"bar\"}, \"encoding\": {\"color\": {\"field\": \"Genre\", \"type\": \"nominal\"}, \"column\": {\"field\": \"Metadata.Publishers\", \"type\": \"nominal\"}, \"tooltip\": [{\"field\": \"Genre\", \"type\": \"nominal\"}, {\"field\": \"Count\", \"title\": \"Games in the Genre\", \"type\": \"quantitative\"}], \"x\": {\"field\": \"Count\", \"type\": \"quantitative\"}, \"y\": {\"field\": \"Genre\", \"type\": \"nominal\"}}, \"height\": 300, \"params\": [{\"name\": \"param_19\", \"select\": {\"type\": \"interval\", \"encodings\": [\"x\", \"y\"]}, \"bind\": \"scales\"}], \"width\": 180, \"$schema\": \"https://vega.github.io/schema/vega-lite/v5.15.1.json\", \"datasets\": {\"data-2ca09ffbd6ca8eed44892723a7219259\": [{\"Genre\": \"Action\", \"Count\": 564}, {\"Genre\": \"Adventure\", \"Count\": 52}, {\"Genre\": \"Educational\", \"Count\": 5}, {\"Genre\": \"Racing / Driving\", \"Count\": 121}, {\"Genre\": \"Role-Playing (RPG)\", \"Count\": 103}, {\"Genre\": \"Simulation\", \"Count\": 80}, {\"Genre\": \"Sports\", \"Count\": 217}, {\"Genre\": \"Strategy\", \"Count\": 105}]}}, {\"mode\": \"vega-lite\"});\n",
       "</script>"
      ],
      "text/plain": [
       "alt.Chart(...)"
      ]
     },
     "execution_count": 64,
     "metadata": {},
     "output_type": "execute_result"
    }
   ],
   "source": [
    "data = pd.read_csv('video_games.csv')\n",
    "data = data.dropna().copy(deep = True)\n",
    "# Preparing the data\n",
    "# Splitting the genres as there can be multiple genres per game\n",
    "genre_data = data.assign(Genre=data['Metadata.Genres'].str.split(',')).explode('Genre')\n",
    "\n",
    "# Counting the number of games per genre for each publishe#\n",
    "# \n",
    "genre_publisher_count = genre_data.groupby(['Genre']).size().reset_index(name='Count'\n",
    ")#genre_publisher_count = genre_data\n",
    "\n",
    "# Creating the visualization\n",
    "chart = alt.Chart(genre_publisher_count).mark_bar().encode(\n",
    "    x='Count',\n",
    "    y='Genre',\n",
    "    color='Genre',\n",
    "    tooltip=['Genre', alt.Tooltip('Count', title='Games in the Genre')],\n",
    "    column='Metadata.Publishers:N'\n",
    ").properties(\n",
    "    width=180,\n",
    "    height=300\n",
    ")\n",
    "\n",
    "chart"
   ]
  },
  {
   "cell_type": "code",
   "execution_count": 75,
   "metadata": {},
   "outputs": [
    {
     "name": "stderr",
     "output_type": "stream",
     "text": [
      "/usr/local/lib/python3.9/site-packages/altair/utils/deprecation.py:65: AltairDeprecationWarning: 'selection' is deprecated.\n",
      "   Use 'selection_point()' or 'selection_interval()' instead; these functions also include more helpful docstrings.\n",
      "  warnings.warn(message, AltairDeprecationWarning, stacklevel=1)\n",
      "/usr/local/lib/python3.9/site-packages/altair/vegalite/v5/api.py:450: AltairDeprecationWarning: The types 'single' and 'multi' are now\n",
      "        combined and should be specified using \"selection_point()\".\n",
      "  warnings.warn(\n",
      "/usr/local/lib/python3.9/site-packages/altair/vegalite/v5/api.py:387: AltairDeprecationWarning: The value of 'empty' should be True or False.\n",
      "  warnings.warn(\n",
      "/usr/local/lib/python3.9/site-packages/altair/utils/deprecation.py:65: AltairDeprecationWarning: 'add_selection' is deprecated. Use 'add_params' instead.\n",
      "  warnings.warn(message, AltairDeprecationWarning, stacklevel=1)\n"
     ]
    },
    {
     "data": {
      "text/html": [
       "\n",
       "<style>\n",
       "  #altair-viz-62bea8fba3624f31a454a9fa1b5eb971.vega-embed {\n",
       "    width: 100%;\n",
       "    display: flex;\n",
       "  }\n",
       "\n",
       "  #altair-viz-62bea8fba3624f31a454a9fa1b5eb971.vega-embed details,\n",
       "  #altair-viz-62bea8fba3624f31a454a9fa1b5eb971.vega-embed details summary {\n",
       "    position: relative;\n",
       "  }\n",
       "</style>\n",
       "<div id=\"altair-viz-62bea8fba3624f31a454a9fa1b5eb971\"></div>\n",
       "<script type=\"text/javascript\">\n",
       "  var VEGA_DEBUG = (typeof VEGA_DEBUG == \"undefined\") ? {} : VEGA_DEBUG;\n",
       "  (function(spec, embedOpt){\n",
       "    let outputDiv = document.currentScript.previousElementSibling;\n",
       "    if (outputDiv.id !== \"altair-viz-62bea8fba3624f31a454a9fa1b5eb971\") {\n",
       "      outputDiv = document.getElementById(\"altair-viz-62bea8fba3624f31a454a9fa1b5eb971\");\n",
       "    }\n",
       "    const paths = {\n",
       "      \"vega\": \"https://cdn.jsdelivr.net/npm/vega@5?noext\",\n",
       "      \"vega-lib\": \"https://cdn.jsdelivr.net/npm/vega-lib?noext\",\n",
       "      \"vega-lite\": \"https://cdn.jsdelivr.net/npm/vega-lite@5.15.1?noext\",\n",
       "      \"vega-embed\": \"https://cdn.jsdelivr.net/npm/vega-embed@6?noext\",\n",
       "    };\n",
       "\n",
       "    function maybeLoadScript(lib, version) {\n",
       "      var key = `${lib.replace(\"-\", \"\")}_version`;\n",
       "      return (VEGA_DEBUG[key] == version) ?\n",
       "        Promise.resolve(paths[lib]) :\n",
       "        new Promise(function(resolve, reject) {\n",
       "          var s = document.createElement('script');\n",
       "          document.getElementsByTagName(\"head\")[0].appendChild(s);\n",
       "          s.async = true;\n",
       "          s.onload = () => {\n",
       "            VEGA_DEBUG[key] = version;\n",
       "            return resolve(paths[lib]);\n",
       "          };\n",
       "          s.onerror = () => reject(`Error loading script: ${paths[lib]}`);\n",
       "          s.src = paths[lib];\n",
       "        });\n",
       "    }\n",
       "\n",
       "    function showError(err) {\n",
       "      outputDiv.innerHTML = `<div class=\"error\" style=\"color:red;\">${err}</div>`;\n",
       "      throw err;\n",
       "    }\n",
       "\n",
       "    function displayChart(vegaEmbed) {\n",
       "      vegaEmbed(outputDiv, spec, embedOpt)\n",
       "        .catch(err => showError(`Javascript Error: ${err.message}<br>This usually means there's a typo in your chart specification. See the javascript console for the full traceback.`));\n",
       "    }\n",
       "\n",
       "    if(typeof define === \"function\" && define.amd) {\n",
       "      requirejs.config({paths});\n",
       "      require([\"vega-embed\"], displayChart, err => showError(`Error loading script: ${err.message}`));\n",
       "    } else {\n",
       "      maybeLoadScript(\"vega\", \"5\")\n",
       "        .then(() => maybeLoadScript(\"vega-lite\", \"5.15.1\"))\n",
       "        .then(() => maybeLoadScript(\"vega-embed\", \"6\"))\n",
       "        .catch(showError)\n",
       "        .then(() => displayChart(vegaEmbed));\n",
       "    }\n",
       "  })({\"config\": {\"view\": {\"continuousWidth\": 300, \"continuousHeight\": 300}}, \"data\": {\"name\": \"data-2ca09ffbd6ca8eed44892723a7219259\"}, \"mark\": {\"type\": \"bar\"}, \"encoding\": {\"color\": {\"condition\": {\"param\": \"param_26\", \"empty\": false, \"field\": \"Genre\"}, \"value\": \"lightgrey\"}, \"tooltip\": [{\"field\": \"Genre\", \"type\": \"nominal\"}, {\"field\": \"Count\", \"title\": \"Games in the Genre\", \"type\": \"quantitative\"}], \"x\": {\"field\": \"Count\", \"type\": \"quantitative\"}, \"y\": {\"field\": \"Genre\", \"type\": \"nominal\"}}, \"height\": 300, \"params\": [{\"name\": \"param_26\", \"select\": {\"type\": \"point\", \"fields\": [\"Genre\"], \"nearest\": true, \"on\": \"mouseover\"}}], \"width\": 180, \"$schema\": \"https://vega.github.io/schema/vega-lite/v5.15.1.json\", \"datasets\": {\"data-2ca09ffbd6ca8eed44892723a7219259\": [{\"Genre\": \"Action\", \"Count\": 564}, {\"Genre\": \"Adventure\", \"Count\": 52}, {\"Genre\": \"Educational\", \"Count\": 5}, {\"Genre\": \"Racing / Driving\", \"Count\": 121}, {\"Genre\": \"Role-Playing (RPG)\", \"Count\": 103}, {\"Genre\": \"Simulation\", \"Count\": 80}, {\"Genre\": \"Sports\", \"Count\": 217}, {\"Genre\": \"Strategy\", \"Count\": 105}]}}, {\"mode\": \"vega-lite\"});\n",
       "</script>"
      ],
      "text/plain": [
       "alt.Chart(...)"
      ]
     },
     "execution_count": 75,
     "metadata": {},
     "output_type": "execute_result"
    }
   ],
   "source": [
    "data = data.dropna().copy(deep = True)\n",
    "\n",
    "# Preparing the data\n",
    "# Splitting the genres as there can be multiple genres per game\n",
    "genre_data = data.assign(Genre=data['Metadata.Genres'].str.split(',')).explode('Genre')\n",
    "\n",
    "# Counting the number of games per genre\n",
    "genre_publisher_count = genre_data.groupby(['Genre']).size().reset_index(name='Count')\n",
    "\n",
    "# Define a selection that chooses the nearest point & selects based on x-value\n",
    "nearest = alt.selection(type='single', nearest=True, on='mouseover',\n",
    "                        fields=['Genre'], empty='none')\n",
    "\n",
    "# Creating the visualization\n",
    "chart = alt.Chart(genre_publisher_count).mark_bar().encode(\n",
    "    x='Count',\n",
    "    y='Genre',\n",
    "    color=alt.condition(nearest, 'Genre', alt.value('lightgrey')),\n",
    "    tooltip=['Genre', alt.Tooltip('Count', title='Games in the Genre')]\n",
    ").add_selection(\n",
    "    nearest\n",
    ").properties(\n",
    "    width=180,\n",
    "    height=300\n",
    ")\n",
    "\n",
    "chart"
   ]
  },
  {
   "cell_type": "code",
   "execution_count": null,
   "metadata": {},
   "outputs": [],
   "source": [
    "data.columns"
   ]
  },
  {
   "cell_type": "markdown",
   "metadata": {},
   "source": [
    "### Contextual"
   ]
  },
  {
   "cell_type": "code",
   "execution_count": 79,
   "metadata": {},
   "outputs": [
    {
     "data": {
      "text/plain": [
       "(948, 11)"
      ]
     },
     "execution_count": 79,
     "metadata": {},
     "output_type": "execute_result"
    }
   ],
   "source": [
    "vg_sales = pd.read_csv('vgsales.csv')\n",
    "vg_sales = vg_sales.dropna()\n",
    "vg_sales['Year'] = vg_sales['Year'].astype(int) \n",
    "vg_sales = vg_sales[(vg_sales['Year'] >= 2004) & (vg_sales['Year'] <= 2010)]\n",
    "vg_sample = vg_sales.sample(n= 948)\n",
    "vg_sample.shape"
   ]
  },
  {
   "cell_type": "code",
   "execution_count": 73,
   "metadata": {},
   "outputs": [
    {
     "ename": "MaxRowsError",
     "evalue": "The number of rows in your dataset is greater than the maximum allowed (5000).\n\nTry enabling the VegaFusion data transformer which raises this limit by pre-evaluating data\ntransformations in Python.\n    >> import altair as alt\n    >> alt.data_transformers.enable(\"vegafusion\")\n\nOr, see https://altair-viz.github.io/user_guide/large_datasets.html for additional information\non how to plot large datasets.",
     "output_type": "error",
     "traceback": [
      "\u001b[0;31m---------------------------------------------------------------------------\u001b[0m",
      "\u001b[0;31mMaxRowsError\u001b[0m                              Traceback (most recent call last)",
      "File \u001b[0;32m/usr/local/lib/python3.9/site-packages/altair/vegalite/v5/api.py:2713\u001b[0m, in \u001b[0;36mChart.to_dict\u001b[0;34m(self, validate, format, ignore, context)\u001b[0m\n\u001b[1;32m   2709\u001b[0m     copy\u001b[39m.\u001b[39mdata \u001b[39m=\u001b[39m core\u001b[39m.\u001b[39mInlineData(values\u001b[39m=\u001b[39m[{}])\n\u001b[1;32m   2710\u001b[0m     \u001b[39mreturn\u001b[39;00m \u001b[39msuper\u001b[39m(Chart, copy)\u001b[39m.\u001b[39mto_dict(\n\u001b[1;32m   2711\u001b[0m         validate\u001b[39m=\u001b[39mvalidate, \u001b[39mformat\u001b[39m\u001b[39m=\u001b[39m\u001b[39mformat\u001b[39m, ignore\u001b[39m=\u001b[39mignore, context\u001b[39m=\u001b[39mcontext\n\u001b[1;32m   2712\u001b[0m     )\n\u001b[0;32m-> 2713\u001b[0m \u001b[39mreturn\u001b[39;00m \u001b[39msuper\u001b[39;49m()\u001b[39m.\u001b[39;49mto_dict(\n\u001b[1;32m   2714\u001b[0m     validate\u001b[39m=\u001b[39;49mvalidate, \u001b[39mformat\u001b[39;49m\u001b[39m=\u001b[39;49m\u001b[39mformat\u001b[39;49m, ignore\u001b[39m=\u001b[39;49mignore, context\u001b[39m=\u001b[39;49mcontext\n\u001b[1;32m   2715\u001b[0m )\n",
      "File \u001b[0;32m/usr/local/lib/python3.9/site-packages/altair/vegalite/v5/api.py:910\u001b[0m, in \u001b[0;36mTopLevelMixin.to_dict\u001b[0;34m(self, validate, format, ignore, context)\u001b[0m\n\u001b[1;32m    908\u001b[0m copy \u001b[39m=\u001b[39m \u001b[39mself\u001b[39m\u001b[39m.\u001b[39mcopy(deep\u001b[39m=\u001b[39m\u001b[39mFalse\u001b[39;00m)  \u001b[39m# type: ignore[attr-defined]\u001b[39;00m\n\u001b[1;32m    909\u001b[0m original_data \u001b[39m=\u001b[39m \u001b[39mgetattr\u001b[39m(copy, \u001b[39m\"\u001b[39m\u001b[39mdata\u001b[39m\u001b[39m\"\u001b[39m, Undefined)\n\u001b[0;32m--> 910\u001b[0m copy\u001b[39m.\u001b[39mdata \u001b[39m=\u001b[39m _prepare_data(original_data, context)\n\u001b[1;32m    912\u001b[0m \u001b[39mif\u001b[39;00m original_data \u001b[39mis\u001b[39;00m \u001b[39mnot\u001b[39;00m Undefined:\n\u001b[1;32m    913\u001b[0m     context[\u001b[39m\"\u001b[39m\u001b[39mdata\u001b[39m\u001b[39m\"\u001b[39m] \u001b[39m=\u001b[39m original_data\n",
      "File \u001b[0;32m/usr/local/lib/python3.9/site-packages/altair/vegalite/v5/api.py:107\u001b[0m, in \u001b[0;36m_prepare_data\u001b[0;34m(data, context)\u001b[0m\n\u001b[1;32m    105\u001b[0m \u001b[39m# convert dataframes  or objects with __geo_interface__ to dict\u001b[39;00m\n\u001b[1;32m    106\u001b[0m \u001b[39melif\u001b[39;00m \u001b[39misinstance\u001b[39m(data, pd\u001b[39m.\u001b[39mDataFrame) \u001b[39mor\u001b[39;00m \u001b[39mhasattr\u001b[39m(data, \u001b[39m\"\u001b[39m\u001b[39m__geo_interface__\u001b[39m\u001b[39m\"\u001b[39m):\n\u001b[0;32m--> 107\u001b[0m     data \u001b[39m=\u001b[39m _pipe(data, data_transformers\u001b[39m.\u001b[39;49mget())\n\u001b[1;32m    109\u001b[0m \u001b[39m# convert string input to a URLData\u001b[39;00m\n\u001b[1;32m    110\u001b[0m \u001b[39melif\u001b[39;00m \u001b[39misinstance\u001b[39m(data, \u001b[39mstr\u001b[39m):\n",
      "File \u001b[0;32m/usr/local/lib/python3.9/site-packages/toolz/functoolz.py:628\u001b[0m, in \u001b[0;36mpipe\u001b[0;34m(data, *funcs)\u001b[0m\n\u001b[1;32m    608\u001b[0m \u001b[39m\u001b[39m\u001b[39m\"\"\" Pipe a value through a sequence of functions\u001b[39;00m\n\u001b[1;32m    609\u001b[0m \n\u001b[1;32m    610\u001b[0m \u001b[39mI.e. ``pipe(data, f, g, h)`` is equivalent to ``h(g(f(data)))``\u001b[39;00m\n\u001b[0;32m   (...)\u001b[0m\n\u001b[1;32m    625\u001b[0m \u001b[39m    thread_last\u001b[39;00m\n\u001b[1;32m    626\u001b[0m \u001b[39m\"\"\"\u001b[39;00m\n\u001b[1;32m    627\u001b[0m \u001b[39mfor\u001b[39;00m func \u001b[39min\u001b[39;00m funcs:\n\u001b[0;32m--> 628\u001b[0m     data \u001b[39m=\u001b[39m func(data)\n\u001b[1;32m    629\u001b[0m \u001b[39mreturn\u001b[39;00m data\n",
      "File \u001b[0;32m/usr/local/lib/python3.9/site-packages/toolz/functoolz.py:304\u001b[0m, in \u001b[0;36mcurry.__call__\u001b[0;34m(self, *args, **kwargs)\u001b[0m\n\u001b[1;32m    302\u001b[0m \u001b[39mdef\u001b[39;00m \u001b[39m__call__\u001b[39m(\u001b[39mself\u001b[39m, \u001b[39m*\u001b[39margs, \u001b[39m*\u001b[39m\u001b[39m*\u001b[39mkwargs):\n\u001b[1;32m    303\u001b[0m     \u001b[39mtry\u001b[39;00m:\n\u001b[0;32m--> 304\u001b[0m         \u001b[39mreturn\u001b[39;00m \u001b[39mself\u001b[39;49m\u001b[39m.\u001b[39;49m_partial(\u001b[39m*\u001b[39;49margs, \u001b[39m*\u001b[39;49m\u001b[39m*\u001b[39;49mkwargs)\n\u001b[1;32m    305\u001b[0m     \u001b[39mexcept\u001b[39;00m \u001b[39mTypeError\u001b[39;00m \u001b[39mas\u001b[39;00m exc:\n\u001b[1;32m    306\u001b[0m         \u001b[39mif\u001b[39;00m \u001b[39mself\u001b[39m\u001b[39m.\u001b[39m_should_curry(args, kwargs, exc):\n",
      "File \u001b[0;32m/usr/local/lib/python3.9/site-packages/altair/vegalite/data.py:23\u001b[0m, in \u001b[0;36mdefault_data_transformer\u001b[0;34m(data, max_rows)\u001b[0m\n\u001b[1;32m     19\u001b[0m \u001b[39m@curried\u001b[39m\u001b[39m.\u001b[39mcurry\n\u001b[1;32m     20\u001b[0m \u001b[39mdef\u001b[39;00m \u001b[39mdefault_data_transformer\u001b[39m(\n\u001b[1;32m     21\u001b[0m     data: _DataType, max_rows: \u001b[39mint\u001b[39m \u001b[39m=\u001b[39m \u001b[39m5000\u001b[39m\n\u001b[1;32m     22\u001b[0m ) \u001b[39m-\u001b[39m\u001b[39m>\u001b[39m _ToValuesReturnType:\n\u001b[0;32m---> 23\u001b[0m     \u001b[39mreturn\u001b[39;00m curried\u001b[39m.\u001b[39;49mpipe(data, limit_rows(max_rows\u001b[39m=\u001b[39;49mmax_rows), to_values)\n",
      "File \u001b[0;32m/usr/local/lib/python3.9/site-packages/toolz/functoolz.py:628\u001b[0m, in \u001b[0;36mpipe\u001b[0;34m(data, *funcs)\u001b[0m\n\u001b[1;32m    608\u001b[0m \u001b[39m\u001b[39m\u001b[39m\"\"\" Pipe a value through a sequence of functions\u001b[39;00m\n\u001b[1;32m    609\u001b[0m \n\u001b[1;32m    610\u001b[0m \u001b[39mI.e. ``pipe(data, f, g, h)`` is equivalent to ``h(g(f(data)))``\u001b[39;00m\n\u001b[0;32m   (...)\u001b[0m\n\u001b[1;32m    625\u001b[0m \u001b[39m    thread_last\u001b[39;00m\n\u001b[1;32m    626\u001b[0m \u001b[39m\"\"\"\u001b[39;00m\n\u001b[1;32m    627\u001b[0m \u001b[39mfor\u001b[39;00m func \u001b[39min\u001b[39;00m funcs:\n\u001b[0;32m--> 628\u001b[0m     data \u001b[39m=\u001b[39m func(data)\n\u001b[1;32m    629\u001b[0m \u001b[39mreturn\u001b[39;00m data\n",
      "File \u001b[0;32m/usr/local/lib/python3.9/site-packages/toolz/functoolz.py:304\u001b[0m, in \u001b[0;36mcurry.__call__\u001b[0;34m(self, *args, **kwargs)\u001b[0m\n\u001b[1;32m    302\u001b[0m \u001b[39mdef\u001b[39;00m \u001b[39m__call__\u001b[39m(\u001b[39mself\u001b[39m, \u001b[39m*\u001b[39margs, \u001b[39m*\u001b[39m\u001b[39m*\u001b[39mkwargs):\n\u001b[1;32m    303\u001b[0m     \u001b[39mtry\u001b[39;00m:\n\u001b[0;32m--> 304\u001b[0m         \u001b[39mreturn\u001b[39;00m \u001b[39mself\u001b[39;49m\u001b[39m.\u001b[39;49m_partial(\u001b[39m*\u001b[39;49margs, \u001b[39m*\u001b[39;49m\u001b[39m*\u001b[39;49mkwargs)\n\u001b[1;32m    305\u001b[0m     \u001b[39mexcept\u001b[39;00m \u001b[39mTypeError\u001b[39;00m \u001b[39mas\u001b[39;00m exc:\n\u001b[1;32m    306\u001b[0m         \u001b[39mif\u001b[39;00m \u001b[39mself\u001b[39m\u001b[39m.\u001b[39m_should_curry(args, kwargs, exc):\n",
      "File \u001b[0;32m/usr/local/lib/python3.9/site-packages/altair/utils/data.py:118\u001b[0m, in \u001b[0;36mlimit_rows\u001b[0;34m(data, max_rows)\u001b[0m\n\u001b[1;32m    115\u001b[0m     \u001b[39mreturn\u001b[39;00m pa_table\n\u001b[1;32m    117\u001b[0m \u001b[39mif\u001b[39;00m max_rows \u001b[39mis\u001b[39;00m \u001b[39mnot\u001b[39;00m \u001b[39mNone\u001b[39;00m \u001b[39mand\u001b[39;00m \u001b[39mlen\u001b[39m(values) \u001b[39m>\u001b[39m max_rows:\n\u001b[0;32m--> 118\u001b[0m     raise_max_rows_error()\n\u001b[1;32m    120\u001b[0m \u001b[39mreturn\u001b[39;00m data\n",
      "File \u001b[0;32m/usr/local/lib/python3.9/site-packages/altair/utils/data.py:81\u001b[0m, in \u001b[0;36mlimit_rows.<locals>.raise_max_rows_error\u001b[0;34m()\u001b[0m\n\u001b[1;32m     80\u001b[0m \u001b[39mdef\u001b[39;00m \u001b[39mraise_max_rows_error\u001b[39m():\n\u001b[0;32m---> 81\u001b[0m     \u001b[39mraise\u001b[39;00m MaxRowsError(\n\u001b[1;32m     82\u001b[0m         \u001b[39m\"\u001b[39m\u001b[39mThe number of rows in your dataset is greater \u001b[39m\u001b[39m\"\u001b[39m\n\u001b[1;32m     83\u001b[0m         \u001b[39mf\u001b[39m\u001b[39m\"\u001b[39m\u001b[39mthan the maximum allowed (\u001b[39m\u001b[39m{\u001b[39;00mmax_rows\u001b[39m}\u001b[39;00m\u001b[39m).\u001b[39m\u001b[39m\\n\u001b[39;00m\u001b[39m\\n\u001b[39;00m\u001b[39m\"\u001b[39m\n\u001b[1;32m     84\u001b[0m         \u001b[39m\"\u001b[39m\u001b[39mTry enabling the VegaFusion data transformer which \u001b[39m\u001b[39m\"\u001b[39m\n\u001b[1;32m     85\u001b[0m         \u001b[39m\"\u001b[39m\u001b[39mraises this limit by pre-evaluating data\u001b[39m\u001b[39m\\n\u001b[39;00m\u001b[39m\"\u001b[39m\n\u001b[1;32m     86\u001b[0m         \u001b[39m\"\u001b[39m\u001b[39mtransformations in Python.\u001b[39m\u001b[39m\\n\u001b[39;00m\u001b[39m\"\u001b[39m\n\u001b[1;32m     87\u001b[0m         \u001b[39m\"\u001b[39m\u001b[39m    >> import altair as alt\u001b[39m\u001b[39m\\n\u001b[39;00m\u001b[39m\"\u001b[39m\n\u001b[1;32m     88\u001b[0m         \u001b[39m'\u001b[39m\u001b[39m    >> alt.data_transformers.enable(\u001b[39m\u001b[39m\"\u001b[39m\u001b[39mvegafusion\u001b[39m\u001b[39m\"\u001b[39m\u001b[39m)\u001b[39m\u001b[39m\\n\u001b[39;00m\u001b[39m\\n\u001b[39;00m\u001b[39m'\u001b[39m\n\u001b[1;32m     89\u001b[0m         \u001b[39m\"\u001b[39m\u001b[39mOr, see https://altair-viz.github.io/user_guide/large_datasets.html \u001b[39m\u001b[39m\"\u001b[39m\n\u001b[1;32m     90\u001b[0m         \u001b[39m\"\u001b[39m\u001b[39mfor additional information\u001b[39m\u001b[39m\\n\u001b[39;00m\u001b[39m\"\u001b[39m\n\u001b[1;32m     91\u001b[0m         \u001b[39m\"\u001b[39m\u001b[39mon how to plot large datasets.\u001b[39m\u001b[39m\"\u001b[39m\n\u001b[1;32m     92\u001b[0m     )\n",
      "\u001b[0;31mMaxRowsError\u001b[0m: The number of rows in your dataset is greater than the maximum allowed (5000).\n\nTry enabling the VegaFusion data transformer which raises this limit by pre-evaluating data\ntransformations in Python.\n    >> import altair as alt\n    >> alt.data_transformers.enable(\"vegafusion\")\n\nOr, see https://altair-viz.github.io/user_guide/large_datasets.html for additional information\non how to plot large datasets."
     ]
    },
    {
     "data": {
      "text/plain": [
       "alt.Chart(...)"
      ]
     },
     "execution_count": 73,
     "metadata": {},
     "output_type": "execute_result"
    }
   ],
   "source": [
    "context_viz = alt.Chart(vg_sample).mark_circle(size=60).encode(\n",
    "    x = 'Year',\n",
    "    y = 'Global_Sales',\n",
    "    color = 'Genre',\n",
    "    tooltip = ['Name', 'Platform', 'Publisher']\n",
    ").interactive()\n",
    "\n"
   ]
  }
 ],
 "metadata": {
  "kernelspec": {
   "display_name": "Python 3",
   "language": "python",
   "name": "python3"
  },
  "language_info": {
   "codemirror_mode": {
    "name": "ipython",
    "version": 3
   },
   "file_extension": ".py",
   "mimetype": "text/x-python",
   "name": "python",
   "nbconvert_exporter": "python",
   "pygments_lexer": "ipython3",
   "version": "3.9.18"
  }
 },
 "nbformat": 4,
 "nbformat_minor": 2
}
